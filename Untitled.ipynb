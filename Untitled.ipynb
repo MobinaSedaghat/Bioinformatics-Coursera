{
 "cells": [
  {
   "cell_type": "code",
   "execution_count": 1,
   "id": "68d0af48",
   "metadata": {},
   "outputs": [],
   "source": [
    "def skew(string):\n",
    "    sk = 0\n",
    "    r = [0]\n",
    "    mins = [0]\n",
    "    minimum = 0 \n",
    "    for i in range (0,len(string)): \n",
    "        if string[i] == 'G':\n",
    "            sk = sk + 1 \n",
    "        if string[i] == 'C':\n",
    "            sk = sk - 1\n",
    "        r.append(sk)\n",
    "        \n",
    "        if sk == minimum :\n",
    "            mins.append(i+1)  \n",
    "            \n",
    "        if sk < minimum:\n",
    "            mins.clear()\n",
    "            minimum = sk\n",
    "            mins.append(i+1)\n",
    "     \n",
    "        \n",
    "\n",
    "    return r, mins"
   ]
  },
  {
   "cell_type": "code",
   "execution_count": 2,
   "id": "6b87d1fe",
   "metadata": {},
   "outputs": [
    {
     "name": "stdout",
     "output_type": "stream",
     "text": [
      "3764856 3764858\n"
     ]
    }
   ],
   "source": [
    "\n",
    "with open('D:\\Mobina\\Desktop\\Salmonella_enterica.txt', 'r') as file:\n",
    "    text = (file.read()).replace('\\n', '')\n",
    "\n",
    "skews, mins = skew(text)\n",
    "print(*(mins))\n"
   ]
  },
  {
   "cell_type": "code",
   "execution_count": 3,
   "id": "78bc3c95",
   "metadata": {},
   "outputs": [
    {
     "data": {
      "image/png": "[encoded data removed]",
      "text/plain": [
       "<Figure size 640x480 with 1 Axes>"
      ]
     },
     "metadata": {},
     "output_type": "display_data"
    }
   ],
   "source": [
    "import matplotlib.pyplot as plt\n",
    "import numpy as np\n",
    "\n",
    "plt.plot(skews)\n",
    "plt.show()\n"
   ]
  },
  {
   "cell_type": "code",
   "execution_count": 4,
   "id": "e265dccc",
   "metadata": {},
   "outputs": [],
   "source": [
    "l = 200\n",
    "ori = text[mins[0]: mins[len(mins)-1] + l]"
   ]
  },
  {
   "cell_type": "code",
   "execution_count": 5,
   "id": "8139479a",
   "metadata": {},
   "outputs": [
    {
     "data": {
      "text/plain": [
       "'GCGGTACGTTTCGGCGCAATTGGCATTGGCAGTCGAGAATACGACACGTTTTGCGGCGCGATTGAGAAAATAGAAGCGGAACTGAAAGGCGCTGGCGCAAAACAGGTTGGGGAAACACTGAAGATCAACATCCTTGAACATGAGATTCCGGAAGATCCAGCGGAGATTTGGCTCGGATCCTGGATTAATTTACTCAAATAAG'"
      ]
     },
     "execution_count": 5,
     "metadata": {},
     "output_type": "execute_result"
    }
   ],
   "source": [
    "ori"
   ]
  },
  {
   "cell_type": "code",
   "execution_count": 6,
   "id": "757ceda9",
   "metadata": {},
   "outputs": [],
   "source": [
    "def hamming(str1, str2):\n",
    "    dist = 0\n",
    "    for i in range (len(str1)):\n",
    "        if str1[i] != str2[i]: \n",
    "            dist = dist + 1\n",
    "    return dist\n",
    "        "
   ]
  },
  {
   "cell_type": "code",
   "execution_count": 7,
   "id": "e9674402",
   "metadata": {},
   "outputs": [],
   "source": [
    "def reverse_complement(txt):\n",
    "    rvcp = ''\n",
    "    dict = {'C':'G', 'A':'T', 'G':'C', 'T':'A'}\n",
    "    for i in range(len(txt)): \n",
    "        rvcp = dict[txt[i]] + rvcp\n",
    "    return rvcp"
   ]
  },
  {
   "cell_type": "code",
   "execution_count": 8,
   "id": "6d333498",
   "metadata": {},
   "outputs": [],
   "source": [
    "def apx_pattern(pattern, string2, d):\n",
    "    li = []\n",
    "    for i in range(len(string2) - len(pattern) + 1):\n",
    "        dist = hamming(string2[i:i+len(pattern)] , pattern)\n",
    "        if dist <= d:\n",
    "            li.append(i)\n",
    "            \n",
    "    return len(li)   "
   ]
  },
  {
   "cell_type": "code",
   "execution_count": 9,
   "id": "ca38972e",
   "metadata": {},
   "outputs": [],
   "source": [
    "def suffix(pattern):\n",
    "    return pattern[1:]\n",
    "\n",
    "def first_symbol(pattern):\n",
    "    return pattern[0]\n",
    "\n",
    "def neighbors(pattern, d):\n",
    "    if d == 0:\n",
    "        return {pattern}\n",
    "    if len(pattern) == 1:\n",
    "        return {'A', 'C', 'G', 'T'}\n",
    "\n",
    "    neighborhood = set()\n",
    "    suffix_neighbors = neighbors(suffix(pattern), d)\n",
    "\n",
    "    for text in suffix_neighbors:\n",
    "        if hamming(suffix(pattern), text) < d:\n",
    "            for nucleotide in 'ACGT':\n",
    "                neighborhood.add(nucleotide + text)\n",
    "        else:\n",
    "            neighborhood.add(first_symbol(pattern) + text)\n",
    "\n",
    "    return list(neighborhood)"
   ]
  },
  {
   "cell_type": "code",
   "execution_count": 10,
   "id": "846f4e01",
   "metadata": {},
   "outputs": [],
   "source": [
    "from collections import Counter\n",
    "def count(text, k, d): \n",
    "    freq_map= {}\n",
    "    freq_map_rc = {}\n",
    "    freq_neighs = {}\n",
    "    freq_neighs_rc = {}\n",
    "    tot_map = {}\n",
    "    total_map = {}\n",
    "    b = 0\n",
    "    for i in range(5):\n",
    "        pat = text[i:i+k]\n",
    "        rc_pat = reverse_complement(pat)\n",
    " \n",
    "        freq_map = count_pat(text, pat, k, d, freq_map)\n",
    "        freq_map_rc = count_pat(text, rc_pat, k, d, freq_map_rc)\n",
    "        \n",
    "    tot_map = Counter(freq_map)\n",
    "    tot_map.update(freq_map_rc)\n",
    "    \n",
    "    for x in tot_map.keys(): \n",
    "        for y in tot_map.keys():\n",
    "            if x == reverse_complement(y) and x != y:\n",
    "                total_map[x] = tot_map[x] + tot_map[y]\n",
    "                total_map[y] = tot_map[x] + tot_map[y]\n",
    "            if x == reverse_complement(y) and x == y:\n",
    "                total_map[x] = tot_map[x]  * 2\n",
    "        \n",
    "    return total_map"
   ]
  },
  {
   "cell_type": "code",
   "execution_count": 11,
   "id": "fb7ff362",
   "metadata": {},
   "outputs": [],
   "source": [
    "def count_pat(text, pat, k, d, freq_map):\n",
    "    \n",
    "    if pat in freq_map.keys():\n",
    "        freq_map[pat] = apx_pattern(pat, text, d) + freq_map[pat]\n",
    "    else: \n",
    "        freq_map[pat] = apx_pattern(pat, text, d)\n",
    "    \n",
    "\n",
    "    neighborhood = neighbors(pat, d)\n",
    "\n",
    "    for i in neighborhood: \n",
    "        if  i in freq_map.keys() and i != pat:\n",
    "            freq_map[i] = freq_map[i] + 1\n",
    "        else: \n",
    "            freq_map[i] = 1\n",
    "\n",
    "    return freq_map"
   ]
  },
  {
   "cell_type": "code",
   "execution_count": 12,
   "id": "0b113dba",
   "metadata": {},
   "outputs": [
    {
     "name": "stdout",
     "output_type": "stream",
     "text": [
      " GCGGTACGT ACGTACCGC ACGGTACGT ACGTACCGT GCGGTAAGT ACTTACCGC GAGGTACGT ACGTACCTC GCGGTACGG CCGTACCGC GCGGTACCT AGGTACCGC GCGGTACGA TCGTACCGC GCGGTACAT ATGTACCGC GCGGTCCGT ACGGACCGC GCGGTATGT ACATACCGC GCTGTACGT ACGTACAGC GCGCTACGT ACGTAGCGC GCGATACGT ACGTATCGC GCGGTAGGT ACCTACCGC CCGGTACGT ACGTACCGG GCGTTACGT ACGTAACGC TCGGTACGT ACGTACCGA GCGGAACGT ACGTTCCGC GCGGCACGT ACGTGCCGC GCCGTACGT ACGTACGGC GCAGTACGT ACGTACTGC GCGGGACGT ACGTCCCGC GCGGTGCGT ACGCACCGC GCGGTACTT AAGTACCGC GCGGTACGC GCGTACCGC GGGGTACGT ACGTACCCC GTGGTACGT ACGTACCAC GCGGTTCGT ACGAACCGC CGGTACGTT AACGTACCG CCGTACGTT AACGTACGG CGGTAAGTT AACTTACCG TGGTACGTT AACGTACCA CGCTACGTT AACGTAGCG CGGTCCGTT AACGGACCG CGATACGTT AACGTATCG CGGGACGTT AACGTCCCG CTGTACGTT AACGTACAG CGGTATGTT AACATACCG CGGTACGCT AGCGTACCG CGGTGCGTT AACGCACCG CGGTTCGTT AACGAACCG CGGCACGTT AACGTGCCG CGGTACATT AATGTACCG CGGAACGTT AACGTTCCG CGTTACGTT AACGTAACG CAGTACGTT AACGTACTG CGGTAGGTT AACCTACCG CGGTACGGT ACCGTACCG GGGTACGTT AACGTACCC CGGTACTTT AAAGTACCG CGGTACGTC GACGTACCG CGGTACGTG CACGTACCG CGGTACCTT AAGGTACCG AGGTACGTT AACGTACCT CGGTACGAT ATCGTACCG CGGTACGTA TACGTACCG GGTACGTTT AAACGTACC AGTACGTTT AAACGTACT GGTACGTCT AGACGTACC GGTTCGTTT AAACGAACC GGTACGATT AATCGTACC CGTACGTTT AAACGTACG GGGACGTTT AAACGTCCC GGTACGTAT ATACGTACC GGTGCGTTT AAACGCACC GGCACGTTT AAACGTGCC GGAACGTTT AAACGTTCC GGTACGCTT AAGCGTACC GGTACATTT AAATGTACC GATACGTTT AAACGTATC GGTCCGTTT AAACGGACC GGTAAGTTT AAACTTACC GGTACTTTT AAAAGTACC GGTACGTTC GAACGTACC GGTACGTGT ACACGTACC GCTACGTTT AAACGTAGC GGTACGGTT AACCGTACC GTTACGTTT AAACGTAAC GGTAGGTTT AAACCTACC GGTACGTTA TAACGTACC GGTACGTTG CAACGTACC GGTACCTTT AAAGGTACC GGTATGTTT AAACATACC TGTACGTTT AAACGTACA GTACGTTTC GAAACGTAC GTACGTTTT AAAACGTAC CTACGTTTC GAAACGTAG TTACGTTTC GAAACGTAA GTACGTATC GATACGTAC GTATGTTTC GAAACATAC GTACGCTTC GAAGCGTAC GTACCTTTC GAAAGGTAC GTAGGTTTC GAAACCTAC GTACGTGTC GACACGTAC GTCCGTTTC GAAACGGAC GTACGGTTC GAACCGTAC GAACGTTTC GAAACGTTC ATACGTTTC GAAACGTAT GTACATTTC GAAATGTAC GTAAGTTTC GAAACTTAC GGACGTTTC GAAACGTCC GTACGTTTA TAAACGTAC GTACGTCTC GAGACGTAC GTACTTTTC GAAAAGTAC GTTCGTTTC GAAACGAAC GTACGATTC GAATCGTAC GTACGTTTG CAAACGTAC GCACGTTTC GAAACGTGC GTACGTTAC GTAACGTAC GTACGTTCC GGAACGTAC GTGCGTTTC GAAACGCAC GTACGTTGC GCAACGTAC TACGTTTCG CGAAACGTA TAAGTTTCG CGAAACTTA CACGTTTCG CGAAACGTG TCCGTTTCG CGAAACGGA TACGTTTCC GGAAACGTA TACGCTTCG CGAAGCGTA TACGTATCG CGATACGTA TACCTTTCG CGAAAGGTA TACTTTTCG CGAAAAGTA TACGTGTCG CGACACGTA GACGTTTCG CGAAACGTC TACGTTCCG CGGAACGTA TACGTTTCA TGAAACGTA TATGTTTCG CGAAACATA AACGTTTCG CGAAACGTT TACGATTCG CGAATCGTA TACGTTTCT AGAAACGTA TACGTTTAG CTAAACGTA TACGTTACG CGTAACGTA TACGGTTCG CGAACCGTA TTCGTTTCG CGAAACGAA TGCGTTTCG CGAAACGCA TACATTTCG CGAAATGTA TACGTTTTG CAAAACGTA TAGGTTTCG CGAAACCTA TACGTTGCG CGCAACGTA TACGTTTGG CCAAACGTA TACGTCTCG CGAGACGTA\n"
     ]
    }
   ],
   "source": [
    "\n",
    "    \n",
    "result= []\n",
    "most = 0\n",
    "map_freq = count(ori, 9, 1) \n",
    "\n",
    "most_freq = []\n",
    "\n",
    "for i in map_freq.keys(): \n",
    "    if map_freq[i] > most: \n",
    "        most_freq.clear()\n",
    "        most = map_freq[i]\n",
    "        most_freq.append(i)\n",
    "    elif map_freq[i] == most:\n",
    "        most_freq.append(i)\n",
    "\n",
    "r = ''\n",
    "for x in most_freq:\n",
    "    r = r + ' '+ x\n",
    "print(r)   \n"
   ]
  },
  {
   "cell_type": "code",
   "execution_count": null,
   "id": "f46873fd",
   "metadata": {},
   "outputs": [],
   "source": []
  }
 ],
 "metadata": {
  "kernelspec": {
   "display_name": "Python 3 (ipykernel)",
   "language": "python",
   "name": "python3"
  },
  "language_info": {
   "codemirror_mode": {
    "name": "ipython",
    "version": 3
   },
   "file_extension": ".py",
   "mimetype": "text/x-python",
   "name": "python",
   "nbconvert_exporter": "python",
   "pygments_lexer": "ipython3",
   "version": "3.9.7"
  }
 },
 "nbformat": 4,
 "nbformat_minor": 5
}
