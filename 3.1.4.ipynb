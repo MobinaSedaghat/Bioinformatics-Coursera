{
 "cells": [
  {
   "cell_type": "code",
   "execution_count": 6,
   "id": "b6456346",
   "metadata": {},
   "outputs": [],
   "source": [
    "from itertools import product\n",
    "\n",
    "def generate_patterns(k):\n",
    "    nucleotides = 'ATCG'\n",
    "    all_strings = [''.join(p) for p in product(nucleotides, repeat=k)]\n",
    "    return all_strings\n"
   ]
  },
  {
   "cell_type": "code",
   "execution_count": 7,
   "id": "fac64d52",
   "metadata": {},
   "outputs": [],
   "source": [
    "def hamming(str1, str2):\n",
    "    dist = 0\n",
    "    for i in range (len(str1)):\n",
    "        if str1[i] != str2[i]: \n",
    "            dist = dist + 1\n",
    "    return dist\n",
    "        "
   ]
  },
  {
   "cell_type": "code",
   "execution_count": 8,
   "id": "7911a4d7",
   "metadata": {},
   "outputs": [],
   "source": [
    "def min_hamming(pat,string): \n",
    "    min_dist = len(string)\n",
    "    for i in range(len(string) - len(pat) + 1): \n",
    "        if min_dist > hamming(pat, string[i:i+len(pat)]):\n",
    "            min_dist =  hamming(pat, string[i:i+len(pat)])\n",
    "    return min_dist    "
   ]
  },
  {
   "cell_type": "code",
   "execution_count": 9,
   "id": "fe3e6c3e",
   "metadata": {},
   "outputs": [],
   "source": [
    "def sum_hamming(pat, dna): \n",
    "    sum = 0\n",
    "    for i in dna:\n",
    "        sum = sum +  min_hamming(pat, i)\n",
    "    return sum"
   ]
  },
  {
   "cell_type": "code",
   "execution_count": 11,
   "id": "a6f078c2",
   "metadata": {},
   "outputs": [],
   "source": [
    "def median_string(dna,k):\n",
    "    pats = generate_patterns(k)\n",
    "    distance = 200\n",
    "    for kmer in pats: \n",
    "        if distance > sum_hamming(kmer, dna):\n",
    "            distance = sum_hamming(kmer, dna)\n",
    "            pattern = kmer\n",
    "    return pattern"
   ]
  },
  {
   "cell_type": "code",
   "execution_count": 14,
   "id": "4286954b",
   "metadata": {},
   "outputs": [
    {
     "data": {
      "text/plain": [
       "'CACCTA'"
      ]
     },
     "execution_count": 14,
     "metadata": {},
     "output_type": "execute_result"
    }
   ],
   "source": [
    "dna= 'GAACTACCTGCTCACCTATCTGGGTTTATCTCTCCATTGGAG CCCCTACGCCGAGGAGCCTGCTACTGCCCATCGTTGAGATCT CGGCATCAGGGGCGATATCCCCTAGGCCTTTGTCACGTTATA CGCCTACCCGGAACGAGTTCTTTTATCGTAGTCGTACTAGAC TGTAAACGGACCGATACATTAGGTCGCCTACACCTACTCATT CCTCTTTACGATCTCCTAGATATCCTATATATCCTCCTGACT TATGAACTCCTACGCGTTAGTCACGTTGAATAGTGTACCTTT CGCTGTCATTTCCGCCTATTTCGACGCAGGCTCACCAGGACT AAATCGCCACACTGCAGTCCGCATCACCTAAAAAACTTCGAG ATAAATCTCGTACATGCTCTCCTATGTACCTGCTTTCACCAT'. split(' ')\n",
    "median_string(dna,6)\n"
   ]
  },
  {
   "cell_type": "code",
   "execution_count": null,
   "id": "b0f73072",
   "metadata": {},
   "outputs": [],
   "source": []
  }
 ],
 "metadata": {
  "kernelspec": {
   "display_name": "Python 3 (ipykernel)",
   "language": "python",
   "name": "python3"
  },
  "language_info": {
   "codemirror_mode": {
    "name": "ipython",
    "version": 3
   },
   "file_extension": ".py",
   "mimetype": "text/x-python",
   "name": "python",
   "nbconvert_exporter": "python",
   "pygments_lexer": "ipython3",
   "version": "3.9.7"
  }
 },
 "nbformat": 4,
 "nbformat_minor": 5
}
