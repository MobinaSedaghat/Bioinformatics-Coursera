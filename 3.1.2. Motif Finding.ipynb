{
 "cells": [
  {
   "cell_type": "markdown",
   "id": "c745ac14",
   "metadata": {},
   "source": [
    "# Brute Force"
   ]
  },
  {
   "cell_type": "code",
   "execution_count": 134,
   "id": "109d6a24",
   "metadata": {},
   "outputs": [],
   "source": [
    "def motif_Enumeration(dna, k, d): \n",
    "    patterns = []\n",
    "    dna = dna.split(' ')\n",
    "    for string in dna:\n",
    "        for i in range(len(string) - k +1):\n",
    "            pat = string[i: i+k]\n",
    "            neighbs = neighbors(pat, d)\n",
    "            for neigh in neighbs: \n",
    "                for s in dna:\n",
    "                    check = 0\n",
    "                    for i in range(len(s) - k + 1):\n",
    "                        if hamming(neigh, s[i:i+k]) <=  d:\n",
    "                            check = 1\n",
    "                            \n",
    "                    if check == 0: \n",
    "                        break\n",
    "                \n",
    "                if not (neigh in patterns) and check == 1:\n",
    "                    patterns.append(neigh)\n",
    "\n",
    "        \n",
    "        return patterns"
   ]
  },
  {
   "cell_type": "code",
   "execution_count": 135,
   "id": "c20af738",
   "metadata": {},
   "outputs": [],
   "source": [
    "def suffix(pattern):\n",
    "    return pattern[1:]\n",
    "\n",
    "def first_symbol(pattern):\n",
    "    return pattern[0]\n",
    "\n",
    "def neighbors(pattern, d):\n",
    "    if d == 0:\n",
    "        return {pattern}\n",
    "    if len(pattern) == 1:\n",
    "        return {'A', 'C', 'G', 'T'}\n",
    "\n",
    "    neighborhood = set()\n",
    "    suffix_neighbors = neighbors(suffix(pattern), d)\n",
    "\n",
    "    for text in suffix_neighbors:\n",
    "        if hamming(suffix(pattern), text) < d:\n",
    "            for nucleotide in 'ACGT':\n",
    "                neighborhood.add(nucleotide + text)\n",
    "        else:\n",
    "            neighborhood.add(first_symbol(pattern) + text)\n",
    "\n",
    "    return list(neighborhood)"
   ]
  },
  {
   "cell_type": "code",
   "execution_count": 136,
   "id": "e874415a",
   "metadata": {},
   "outputs": [],
   "source": [
    "def hamming(str1, str2):\n",
    "    dist = 0\n",
    "    for i in range (len(str1)):\n",
    "        if str1[i] != str2[i]: \n",
    "            dist = dist + 1\n",
    "    return dist"
   ]
  },
  {
   "cell_type": "code",
   "execution_count": 140,
   "id": "4ea1bc2d",
   "metadata": {},
   "outputs": [
    {
     "name": "stdout",
     "output_type": "stream",
     "text": [
      "CGACT CAGCG CACCG TGGTG CTCCG GGGCT AGCCG CTGCA CGCAG CCACG GGGTG CTTCG CGCCT TGTCG CGGGA CGGCT GTGCG CGCCC ATGCG CTGTG TGGCA CGTTG GCGCG CGTCT AGGTG CGTCG TGACG CGGTT CGGAC CTACG TTGCG GGGCG CAGGG CGGGT TGGCC CGCCA TGGCG TAGCG CGCCG GAGCG CCGCG GGACG CGTAG GGGAG CGGCA AGGCA CTGAG GGTCG CGGTG CTGCG CGGGC CGTGG GGGCA CGTCA CGAAG CGGGG CGGTA CGGCC CGTCC AAGCG CAACG CGGAA CCTCG CAGAG CAGCA CGAGG CGGTC CGCGG CCGCC CTGGG AGGCT AGGCG GGGCC AGGCC CCGCA CATCG CGACC CGCTG AGTCG CCGTG TGGAG TGGGG CCGAG CAGCT CGGAG TGGCT TGCCG CGGCG CCCCG GGCCG CAGTG CGATG CCGGG CCGCT GGGGG CAGCC GGCGC TGCGG TGGGT ACCGT TGCTT AGTGT GGGTT GGCTA GGGGC GGCTT AGCGT GCCCT GGGGA GTAGT GGCCA GGAAT GGAGA GCTGT GCCGA GTGGT CGCTT TGCGC GGTCT TACGT GGCAC GGATT GGCTC AGCCT GGCGG TGCGT AGGGT GACCT GGCAA GCCTT GGTGG TCCGT GGTTT TGCCT GGCGA GGTGT TGAGT GGAGG GGCAT GGACT CCCGT GCCAT GTCCT GGCAG ATCGT GGCCT GGAGT CTCGT GACTT AGCGG GACGC GTCTT GGGAT TGTGT GTCGA TGCAT GCGGT CGTGT GGCCC AGCGA GTTGT CGCGT GCCGT GAGGT GCCGG GTCGG AGCGC CGCAT GGAGC TTCGT GGGGT CGCGC GCCGC GGCTG GTCGC AGCAT AGCTT GGCGT GCGGA GTATT GTTTT GCGAG CCGTT GCGTT ACATT GTGCT GAGCT GAGTC CCGTA GCGCC AGGTT ACTTT GCTTT TGGTT TAGTT GTGAT GTGTT GAGTA CCGTC TCCTT GCTCT CCTTT GCCTA GCGGC TCGCT TCGGT ACGTG TTGTT TCGAT GCGTA GCTAT GCTTC GCGGG TCGTA GCACT ACCTT GCGTC GCCTG TCGTC GTGTC GCATC GCATG GCGTG GCGCA GCTTA TCGTG TCGTT CCCTT ACGGT ACGCT GAGTT GTGTG GCTTG GCATT TCATT GTGTA CCGGT GCCTC GCGAT GGGTA GCATA GGGTC GCGCT CTTAC CACTC CGTTC CGTGC CCTTG CCTCC AGTGC CTTGC GGTCC AGGTC TGTGC CAGTC CTTTC CGCAC TGGTC CTTTA CCTTA CATTG TGCTC AGATC TGTCC CGTAA TGTTT CGAGC CATGC CGTGA CGTAC CGATC AGTCC TGTTA AGTTA GGTTG CGCTA CATCC CATTC TGTTC CGCTC CCTGC CGTAT CTTTG GGTAC TGTTG CATTA CCCTC CTTCC AGTAC AGTTC CCTTC CATAC CTGTC CGTTT CGTTA CCTAC AGCTC GTTGC CCTCT GTACA GTCCA TTTCT GATCC GCTCA GTGCC GTACG GTCCG GTTTA CTCCT TTCCT GGTCA GATCT GTGCA GCTCG CTTCA GCTCC GTTCG TGTCT ATGCT GTTTG GTACC GTACT CATCT GTTGA ATTCT TTTGT CTTGT AGTCT ATCCT GTCCC GTTCT ATTCA TTGCT GTTAG GTTGG TTCTA TTGGA TTGTC TCCGA TTGTG TACTG TGCAA TTATT GTCTG TTCAT TTCTG GTCAA TCCTC CTCGA TCTTA ATCTT TTCGC TGCCA TTGCA TCCTA CTCTG TACGA ATCTG TTTGA TTCTC GTCTA GTCTC TTCGG TCCTG CTCTT TTCGA TTAGA TTCCG TAGTA TGCTG TTCAG TCAAG TCTGC TCTTG TCGAC CCTGA TCCAT TCGCA TCAGA CCTAG TCCAG GCTAG TGTGA TTTAG GCCAA TCGGA TCTCG TCTGA TCTGT CCTCA TCTGG TCTAG ATCAC CAACC CTAGT CTGGC CTCAT CTTAG GCAAC CCGAC GTAGC GTAAG CCACC TTAGC GTCAC ATAGC CTCGC GGAAC CTAGG CTCAG CCAGC TTACG GCACA TAGCT GACCA TCACG CACCA CATCA GAGCA TCACT TGACA GAACC CAACA GAACG GGACA TAGCA ATCCC AAGTC TGCAC CACCC GCCAC AATCC AGCCC GACAG CACAG AACCT ATCAG ACCAT GACAC AAGCC AGGAC GACTC TACGC AGCAC ATCGC ACCTC AACTT GAGAC AACCG ACATG GCACC ACAGC AGACT AGACC TCGCC GGACC ACTCG GCACG ACAGT ACCCG ACGCC GCCCC ATGCC ATACG ACCCT GCAGC AGAGC TCATC ACGCA AGCCA CATGA CGCAA GCCCA CACCT CACTG GACCG CAGGA CACGG ACTGT TCCCT GCCAG ACCTG ACCGG CCAGG CCCTG TCATG CCGGA GCAGA CCATG CATGT CATAG CAGGC GATAG CATGG ATTGA ATAGT ATCCG AGTCA TAGGT TTGAT TAGAG TAGAT TACGG TGGAT TGAAT ACTTG AGGTA AGAGG ATGTG ATTGG ATTAG ATGGG TTAGG ATCGG TGGGA TAGGG GAGGA TCCGG TAGGC TCCGC\n"
     ]
    }
   ],
   "source": [
    "\n",
    "dna = 'CGGCGTTCTAACACCATACATACGA CGGCCCACCCTGAGTTCGCGAGTTC AGGCGTCGTGGGGCATCGTTCGGGG GGGCTTCGTGACACGAGACCGGGAG CAGCCTGGGCTGGCTCAGTGTAAGA CAGCCCTCTGTAGGCAGGCCTTGGT'\n",
    "\n",
    "print(*motif_Enumeration(dna,5,2) )"
   ]
  },
  {
   "cell_type": "code",
   "execution_count": null,
   "id": "cc2d4c4b",
   "metadata": {},
   "outputs": [],
   "source": []
  }
 ],
 "metadata": {
  "kernelspec": {
   "display_name": "Python 3 (ipykernel)",
   "language": "python",
   "name": "python3"
  },
  "language_info": {
   "codemirror_mode": {
    "name": "ipython",
    "version": 3
   },
   "file_extension": ".py",
   "mimetype": "text/x-python",
   "name": "python",
   "nbconvert_exporter": "python",
   "pygments_lexer": "ipython3",
   "version": "3.9.7"
  }
 },
 "nbformat": 4,
 "nbformat_minor": 5
}
