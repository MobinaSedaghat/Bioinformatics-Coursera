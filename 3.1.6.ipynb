{
 "cells": [
  {
   "cell_type": "code",
   "execution_count": 55,
   "id": "f2966a35",
   "metadata": {},
   "outputs": [],
   "source": [
    "def profile_matrix_with_pseudocounts(motifs):\n",
    "    k = len(motifs[0])\n",
    "    profile = {'A': [1] * k, 'C': [1] * k, 'G': [1] * k, 'T': [1] * k}\n",
    "    total_motifs = len(motifs) + 4  # pseudocounts for each nucleotide\n",
    "\n",
    "    for i in range(k):\n",
    "        for motif in motifs:\n",
    "            profile[motif[i]][i] += 1\n",
    "\n",
    "    for nucleotide in profile:\n",
    "        for i in range(k):\n",
    "            profile[nucleotide][i] /= total_motifs\n",
    "\n",
    "    return profile"
   ]
  },
  {
   "cell_type": "code",
   "execution_count": 56,
   "id": "d2d354a0",
   "metadata": {},
   "outputs": [],
   "source": [
    "def profile_most_probable_kmer(text, k, profile):\n",
    "    max_prob = -1\n",
    "    most_probable_kmer = text[:k]\n",
    "\n",
    "    for i in range(len(text) - k + 1):\n",
    "        kmer = text[i:i + k]\n",
    "        prob = 1\n",
    "        for j in range(k):\n",
    "            prob *= profile[kmer[j]][j]\n",
    "        if prob > max_prob:\n",
    "            max_prob = prob\n",
    "            most_probable_kmer = kmer\n",
    "\n",
    "    return most_probable_kmer"
   ]
  },
  {
   "cell_type": "code",
   "execution_count": 57,
   "id": "e014247d",
   "metadata": {},
   "outputs": [],
   "source": [
    "def greedy_motif_search_with_pseudocounts(dna, k, t):\n",
    "    best_motifs = [string[:k] for string in dna]\n",
    "\n",
    "    for i in range(len(dna[0]) - k + 1):\n",
    "        motifs = [dna[0][i:i + k]]\n",
    "\n",
    "        for j in range(1, t):\n",
    "            profile = profile_matrix_with_pseudocounts(motifs)\n",
    "            motifs.append(profile_most_probable_kmer(dna[j], k, profile))\n",
    "\n",
    "        if score_motifs(motifs) < score_motifs(best_motifs):\n",
    "            best_motifs = motifs\n",
    "\n",
    "    return best_motifs"
   ]
  },
  {
   "cell_type": "code",
   "execution_count": 58,
   "id": "98034de6",
   "metadata": {},
   "outputs": [],
   "source": [
    "def score_motifs(motifs):\n",
    "    score = 0\n",
    "    k = len(motifs[0])\n",
    "\n",
    "    for i in range(k):\n",
    "        column = [motif[i] for motif in motifs]\n",
    "        most_common = max(set(column), key=column.count)\n",
    "        score += sum(1 for nucleotide in column if nucleotide != most_common)\n",
    "\n",
    "    return score"
   ]
  },
  {
   "cell_type": "code",
   "execution_count": 59,
   "id": "92bece4e",
   "metadata": {},
   "outputs": [
    {
     "name": "stdout",
     "output_type": "stream",
     "text": [
      "GTTC AATC GTTC AATC ATTC\n"
     ]
    }
   ],
   "source": [
    "Dna = 'GGCGTTCAGGCA AAGAATCAGTCA CAAGGAGTTCGC CACGTCAATCAC CAATAATATTCG'\n",
    "dna_list = Dna.split(' ')\n",
    "k = 4\n",
    "t = 5\n",
    "result = greedy_motif_search_with_pseudocounts(dna_list, k, t)\n",
    "print(\" \".join(result))"
   ]
  },
  {
   "cell_type": "code",
   "execution_count": null,
   "id": "17f041f9",
   "metadata": {},
   "outputs": [],
   "source": []
  }
 ],
 "metadata": {
  "kernelspec": {
   "display_name": "Python 3 (ipykernel)",
   "language": "python",
   "name": "python3"
  },
  "language_info": {
   "codemirror_mode": {
    "name": "ipython",
    "version": 3
   },
   "file_extension": ".py",
   "mimetype": "text/x-python",
   "name": "python",
   "nbconvert_exporter": "python",
   "pygments_lexer": "ipython3",
   "version": "3.9.7"
  }
 },
 "nbformat": 4,
 "nbformat_minor": 5
}
