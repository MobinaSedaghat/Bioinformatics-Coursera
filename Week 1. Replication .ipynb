{
 "cells": [
  {
   "cell_type": "code",
   "execution_count": 1,
   "id": "7a7f0976",
   "metadata": {},
   "outputs": [],
   "source": [
    "def patternCount(txt, ptrn):\n",
    "  count = 0\n",
    "\n",
    "  for i in range(len(txt) - len(ptrn)+1):       \n",
    "    count = count + (txt[i:i+len(ptrn)] == ptrn)      \n",
    "   \n",
    "  return count"
   ]
  },
  {
   "cell_type": "code",
   "execution_count": null,
   "id": "f3b845b4",
   "metadata": {},
   "outputs": [],
   "source": [
    "def freq_kmer(text, k):\n",
    "    map = {}\n",
    "    for i in range(len(text) - k + 1):\n",
    "        if text[i: i + k] in map:\n",
    "            map[text[i: i + k]] = map[text[i: i + k]] + 1\n",
    "        else: \n",
    "            map[text[i: i + k]] = 1\n",
    "            \n",
    "    max_value = max(map.values()) \n",
    "    freqs = {key for key, value in map.items() if value == max_value}\n",
    "    return freqs"
   ]
  },
  {
   "cell_type": "code",
   "execution_count": null,
   "id": "315a6fd2",
   "metadata": {},
   "outputs": [],
   "source": [
    "def pos(txt,pt):\n",
    "    loc = ''\n",
    "    for i in range(len(txt) - len(pt) + 1): \n",
    "        if txt[i:i+len(pt)] == pt: \n",
    "            loc = loc + ' ' + str(i)\n",
    "    return loc"
   ]
  },
  {
   "cell_type": "code",
   "execution_count": 24,
   "id": "55acc430",
   "metadata": {},
   "outputs": [],
   "source": [
    "def reverse_complement(txt):\n",
    "    rvcp = ''\n",
    "    dict = {'C':'G', 'A':'T', 'G':'C', 'T':'A'}\n",
    "    for i in range(len(txt)-1): \n",
    "        rvcp = dict[txt[i]] + rvcp\n",
    "    return rvcp"
   ]
  },
  {
   "cell_type": "code",
   "execution_count": null,
   "id": "14177a95",
   "metadata": {},
   "outputs": [],
   "source": [
    "# with open('D:\\Mobina\\Desktop\\dataset_30273_2.txt', 'r') as file:\n",
    "#     text = file.read()"
   ]
  }
 ],
 "metadata": {
  "kernelspec": {
   "display_name": "Python 3 (ipykernel)",
   "language": "python",
   "name": "python3"
  },
  "language_info": {
   "codemirror_mode": {
    "name": "ipython",
    "version": 3
   },
   "file_extension": ".py",
   "mimetype": "text/x-python",
   "name": "python",
   "nbconvert_exporter": "python",
   "pygments_lexer": "ipython3",
   "version": "3.9.7"
  }
 },
 "nbformat": 4,
 "nbformat_minor": 5
}
