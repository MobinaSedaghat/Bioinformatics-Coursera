{
 "cells": [
  {
   "cell_type": "code",
   "execution_count": 18,
   "id": "f6f01e4e",
   "metadata": {},
   "outputs": [],
   "source": [
    "def skew(string):\n",
    "    sk = 0\n",
    "    r = [0]\n",
    "    mins = [0]\n",
    "    maxs = []\n",
    "    minimum = 0 \n",
    "    maximum= -10\n",
    "    for i in range (0,len(string)): \n",
    "        if string[i] == 'G':\n",
    "            sk = sk + 1 \n",
    "        if string[i] == 'C':\n",
    "            sk = sk - 1\n",
    "        r.append(sk)\n",
    "        \n",
    "        \n",
    "        if sk == maximum: \n",
    "            maxs.append(i+1)\n",
    "        if sk>maximum: \n",
    "            maxs.clear()\n",
    "            maximum = sk\n",
    "            maxs.append(i+1)\n",
    "            \n",
    "        if sk == minimum :\n",
    "            mins.append(i+1)  \n",
    "            \n",
    "        if sk < minimum:\n",
    "            mins.clear()\n",
    "            minimum = sk\n",
    "            mins.append(i+1)\n",
    "     \n",
    "        \n",
    "\n",
    "    return r, mins, maxs"
   ]
  },
  {
   "cell_type": "code",
   "execution_count": 20,
   "id": "33fd637a",
   "metadata": {
    "scrolled": true
   },
   "outputs": [
    {
     "name": "stdout",
     "output_type": "stream",
     "text": [
      "28 29\n"
     ]
    }
   ],
   "source": [
    "\n",
    "with open('D:\\Mobina\\Desktop\\Salmonella_enterica.txt', 'r') as file:\n",
    "    text = file.read()\n",
    "text = 'CATTCCAGTACTTCATGATGGCGTGAAGA'\n",
    "skews, mins, maxs = skew(text)\n",
    "print(*(maxs))\n"
   ]
  },
  {
   "cell_type": "code",
   "execution_count": 17,
   "id": "636c6098",
   "metadata": {},
   "outputs": [
    {
     "data": {
      "text/plain": [
       "1"
      ]
     },
     "execution_count": 17,
     "metadata": {},
     "output_type": "execute_result"
    }
   ],
   "source": [
    "skews[28]"
   ]
  },
  {
   "cell_type": "code",
   "execution_count": null,
   "id": "f02dc3b2",
   "metadata": {},
   "outputs": [],
   "source": []
  }
 ],
 "metadata": {
  "kernelspec": {
   "display_name": "Python 3 (ipykernel)",
   "language": "python",
   "name": "python3"
  },
  "language_info": {
   "codemirror_mode": {
    "name": "ipython",
    "version": 3
   },
   "file_extension": ".py",
   "mimetype": "text/x-python",
   "name": "python",
   "nbconvert_exporter": "python",
   "pygments_lexer": "ipython3",
   "version": "3.9.7"
  }
 },
 "nbformat": 4,
 "nbformat_minor": 5
}
