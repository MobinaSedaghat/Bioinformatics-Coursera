{
 "cells": [
  {
   "cell_type": "code",
   "execution_count": 1,
   "id": "dfee4908",
   "metadata": {},
   "outputs": [],
   "source": [
    "def hamming(str1, str2):\n",
    "    dist = 0\n",
    "    for i in range (len(str1)):\n",
    "        if str1[i] != str2[i]: \n",
    "            dist = dist + 1\n",
    "    return dist\n",
    "        "
   ]
  },
  {
   "cell_type": "code",
   "execution_count": 2,
   "id": "efc972ac",
   "metadata": {},
   "outputs": [],
   "source": [
    "def reverse_complement(txt):\n",
    "    rvcp = ''\n",
    "    dict = {'C':'G', 'A':'T', 'G':'C', 'T':'A'}\n",
    "    for i in range(len(txt)): \n",
    "        rvcp = dict[txt[i]] + rvcp\n",
    "    return rvcp"
   ]
  },
  {
   "cell_type": "code",
   "execution_count": 3,
   "id": "6ebb9bd8",
   "metadata": {},
   "outputs": [],
   "source": [
    "def apx_pattern(pattern, string2, d):\n",
    "    li = []\n",
    "    for i in range(len(string2) - len(pattern) + 1):\n",
    "        dist = hamming(string2[i:i+len(pattern)] , pattern)\n",
    "        if dist <= d:\n",
    "            li.append(i)\n",
    "            \n",
    "    return len(li)   "
   ]
  },
  {
   "cell_type": "code",
   "execution_count": 4,
   "id": "1ed2f461",
   "metadata": {},
   "outputs": [],
   "source": [
    "def suffix(pattern):\n",
    "    return pattern[1:]\n",
    "\n",
    "def first_symbol(pattern):\n",
    "    return pattern[0]\n",
    "\n",
    "def neighbors(pattern, d):\n",
    "    if d == 0:\n",
    "        return {pattern}\n",
    "    if len(pattern) == 1:\n",
    "        return {'A', 'C', 'G', 'T'}\n",
    "\n",
    "    neighborhood = set()\n",
    "    suffix_neighbors = neighbors(suffix(pattern), d)\n",
    "\n",
    "    for text in suffix_neighbors:\n",
    "        if hamming(suffix(pattern), text) < d:\n",
    "            for nucleotide in 'ACGT':\n",
    "                neighborhood.add(nucleotide + text)\n",
    "        else:\n",
    "            neighborhood.add(first_symbol(pattern) + text)\n",
    "\n",
    "    return list(neighborhood)"
   ]
  },
  {
   "cell_type": "code",
   "execution_count": 5,
   "id": "90707608",
   "metadata": {},
   "outputs": [],
   "source": [
    "# def create_approx_freq_table(text, k, d):\n",
    "#     freq_map = {}\n",
    "#     freq_map_neighs = {}\n",
    "#     neighs = []\n",
    "#     for i in range(len(text)-k+1):\n",
    "#         pat = text[i:i+k]\n",
    "#         neighs = neighbors(pat, d)\n",
    "\n",
    "#         freq_map[pat] = apx_pattern(pat, text, d) \n",
    "               \n",
    "\n",
    "#         for x in neighs: \n",
    "#             if not (x in freq_map.keys()):\n",
    "#                 if x in freq_map_neighs.keys():\n",
    "#                     freq_map_neighs[x] =  freq_map_neighs[x] + 1\n",
    "#                 else: \n",
    "#                     freq_map_neighs[x] = 1\n",
    "        \n",
    "#     return freq_map, freq_map_neighs"
   ]
  },
  {
   "cell_type": "code",
   "execution_count": 6,
   "id": "37d93fc5",
   "metadata": {},
   "outputs": [],
   "source": [
    "from collections import Counter\n",
    "def count(text, k, d): \n",
    "    freq_map= {}\n",
    "    freq_map_rc = {}\n",
    "    freq_neighs = {}\n",
    "    freq_neighs_rc = {}\n",
    "    tot_map = {}\n",
    "    total_map = {}\n",
    "    b = 0\n",
    "    for i in range(len(text)-k+1):\n",
    "        pat = text[i:i+k]\n",
    "        rc_pat = reverse_complement(pat)\n",
    " \n",
    "        freq_map = count_pat(text, pat, k, d, freq_map)\n",
    "        freq_map_rc = count_pat(text, rc_pat, k, d, freq_map_rc)\n",
    "        \n",
    "    tot_map = Counter(freq_map)\n",
    "    tot_map.update(freq_map_rc)\n",
    "    \n",
    "    for x in tot_map.keys(): \n",
    "        for y in tot_map.keys():\n",
    "            if x == reverse_complement(y) and x != y:\n",
    "                total_map[x] = tot_map[x] + tot_map[y]\n",
    "                total_map[y] = tot_map[x] + tot_map[y]\n",
    "            if x == reverse_complement(y) and x == y:\n",
    "                total_map[x] = tot_map[x]  * 2\n",
    "        \n",
    "    return total_map"
   ]
  },
  {
   "cell_type": "code",
   "execution_count": 7,
   "id": "c5490f61",
   "metadata": {},
   "outputs": [],
   "source": [
    "def count_pat(text, pat, k, d, freq_map):\n",
    "    \n",
    "    if pat in freq_map.keys():\n",
    "        freq_map[pat] = apx_pattern(pat, text, d) + freq_map[pat]\n",
    "    else: \n",
    "        freq_map[pat] = apx_pattern(pat, text, d)\n",
    "    \n",
    "\n",
    "    neighborhood = neighbors(pat, d)\n",
    "\n",
    "    for i in neighborhood: \n",
    "        if  i in freq_map.keys() and i != pat:\n",
    "            freq_map[i] = freq_map[i] + 1\n",
    "        else: \n",
    "            freq_map[i] = 1\n",
    "\n",
    "    return freq_map"
   ]
  },
  {
   "cell_type": "code",
   "execution_count": 11,
   "id": "28dbc957",
   "metadata": {
    "scrolled": true
   },
   "outputs": [],
   "source": [
    "string4 = 'CATGCCATTCGCATTGTCCCAGTGA'\n",
    "result= []\n",
    "most = 0\n",
    "map_freq = count(string4, 3, 2) \n",
    "\n",
    "most_freq = []\n",
    "\n",
    "for i in map_freq.keys(): \n",
    "    if map_freq[i] > most: \n",
    "        most_freq.clear()\n",
    "        most = map_freq[i]\n",
    "        most_freq.append(i)\n",
    "    elif map_freq[i] == most:\n",
    "        most_freq.append(i)"
   ]
  },
  {
   "cell_type": "code",
   "execution_count": 12,
   "id": "33f0b14c",
   "metadata": {},
   "outputs": [
    {
     "name": "stdout",
     "output_type": "stream",
     "text": [
      " CCG CGG\n"
     ]
    }
   ],
   "source": [
    "r = ''\n",
    "for x in most_freq:\n",
    "    r = r + ' '+ x\n",
    "print(r)"
   ]
  },
  {
   "cell_type": "code",
   "execution_count": 15,
   "id": "c8f97b8b",
   "metadata": {},
   "outputs": [
    {
     "data": {
      "text/plain": [
       "32"
      ]
     },
     "execution_count": 15,
     "metadata": {},
     "output_type": "execute_result"
    }
   ],
   "source": [
    "map_freq['CCC']"
   ]
  },
  {
   "cell_type": "code",
   "execution_count": null,
   "id": "e921cd42",
   "metadata": {},
   "outputs": [],
   "source": []
  }
 ],
 "metadata": {
  "kernelspec": {
   "display_name": "Python 3 (ipykernel)",
   "language": "python",
   "name": "python3"
  },
  "language_info": {
   "codemirror_mode": {
    "name": "ipython",
    "version": 3
   },
   "file_extension": ".py",
   "mimetype": "text/x-python",
   "name": "python",
   "nbconvert_exporter": "python",
   "pygments_lexer": "ipython3",
   "version": "3.9.7"
  }
 },
 "nbformat": 4,
 "nbformat_minor": 5
}
