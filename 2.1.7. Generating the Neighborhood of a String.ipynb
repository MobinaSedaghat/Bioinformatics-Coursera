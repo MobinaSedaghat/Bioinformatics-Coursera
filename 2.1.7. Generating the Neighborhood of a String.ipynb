{
 "cells": [
  {
   "cell_type": "code",
   "execution_count": 3,
   "id": "28794bea",
   "metadata": {},
   "outputs": [],
   "source": [
    "def hamming(str1, str2):\n",
    "    dist = 0\n",
    "    for i in range (len(str1)):\n",
    "        if str1[i] != str2[i]: \n",
    "            dist = dist + 1\n",
    "    return dist\n",
    "        "
   ]
  },
  {
   "cell_type": "code",
   "execution_count": 21,
   "id": "b621f162",
   "metadata": {},
   "outputs": [],
   "source": [
    "def suffix(pattern):\n",
    "    return pattern[1:]\n",
    "\n",
    "def first_symbol(pattern):\n",
    "    return pattern[0]\n",
    "\n",
    "def neighbors(pattern, d):\n",
    "    if d == 0:\n",
    "        return {pattern}\n",
    "    if len(pattern) == 1:\n",
    "        return {'A', 'C', 'G', 'T'}\n",
    "\n",
    "    neighborhood = set()\n",
    "    suffix_neighbors = neighbors(suffix(pattern), d)\n",
    "\n",
    "    for text in suffix_neighbors:\n",
    "        if hamming(suffix(pattern), text) < d:\n",
    "            for nucleotide in 'ACGT':\n",
    "                neighborhood.add(nucleotide + text)\n",
    "        else:\n",
    "            neighborhood.add(first_symbol(pattern) + text)\n",
    "\n",
    "    return list(neighborhood)"
   ]
  },
  {
   "cell_type": "code",
   "execution_count": 22,
   "id": "b72e1adf",
   "metadata": {
    "scrolled": true
   },
   "outputs": [
    {
     "data": {
      "text/plain": [
       "256"
      ]
     },
     "execution_count": 22,
     "metadata": {},
     "output_type": "execute_result"
    }
   ],
   "source": [
    "def write_neighbors_to_file(pattern, d, filename):\n",
    "    count = 0\n",
    "    with open(filename, 'w') as file:\n",
    "        for neighbor in neighbors(pattern, d):\n",
    "            count = count+1\n",
    "            file.write(neighbor + '\\n')\n",
    "    return count\n",
    "pattern = \"ACGT\"\n",
    "d = 4\n",
    "filename = \"neighbors_output.txt\"\n",
    "\n",
    "write_neighbors_to_file(pattern, d, filename)"
   ]
  },
  {
   "cell_type": "code",
   "execution_count": null,
   "id": "02df45ce",
   "metadata": {},
   "outputs": [],
   "source": []
  },
  {
   "cell_type": "code",
   "execution_count": null,
   "id": "b86d5644",
   "metadata": {},
   "outputs": [],
   "source": []
  }
 ],
 "metadata": {
  "kernelspec": {
   "display_name": "Python 3 (ipykernel)",
   "language": "python",
   "name": "python3"
  },
  "language_info": {
   "codemirror_mode": {
    "name": "ipython",
    "version": 3
   },
   "file_extension": ".py",
   "mimetype": "text/x-python",
   "name": "python",
   "nbconvert_exporter": "python",
   "pygments_lexer": "ipython3",
   "version": "3.9.7"
  }
 },
 "nbformat": 4,
 "nbformat_minor": 5
}
