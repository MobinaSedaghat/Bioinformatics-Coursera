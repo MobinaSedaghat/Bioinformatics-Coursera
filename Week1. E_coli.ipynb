{
 "cells": [
  {
   "cell_type": "code",
   "execution_count": 224,
   "id": "5a8ff000",
   "metadata": {},
   "outputs": [],
   "source": [
    "def count(string, k, l, t):\n",
    "    map = freq_kmer(string[0:l], k,t)\n",
    "    for i in range(1, len(string)-l+1): \n",
    "        txt = string [i:i+l]     \n",
    "        map[string[i-1:i-1+k]] = map[string[i-1:i-1+k]] - 1  \n",
    "        if txt[-k:] in map:\n",
    "            map[txt[-k:]] = map[txt[-k:]] + 1\n",
    "            if map[txt[-k:]] >= t and not (txt[-k:] in final):\n",
    "                final.append(txt[-k:])\n",
    "        else: \n",
    "            map[txt[-k:]] =  1\n",
    "\n",
    "    return len(final)"
   ]
  },
  {
   "cell_type": "code",
   "execution_count": 227,
   "id": "ea88c137",
   "metadata": {},
   "outputs": [],
   "source": [
    "def freq_kmer(text, k,t):\n",
    "    map = {}\n",
    "    for i in range(len(text) - k + 1):\n",
    "        if not text[i: i + k] in final:\n",
    "            if text[i: i + k] in map :\n",
    "                    map[text[i: i + k]] = map[text[i: i + k]] + 1\n",
    "            else: \n",
    "                map[text[i: i + k]] = 1\n",
    "                \n",
    "            if map[text[i: i + k]] >= t:\n",
    "                final.append(text[i: i + k])\n",
    "\n",
    "    return map"
   ]
  },
  {
   "cell_type": "code",
   "execution_count": 228,
   "id": "d41f283e",
   "metadata": {},
   "outputs": [
    {
     "data": {
      "text/plain": [
       "1904"
      ]
     },
     "execution_count": 228,
     "metadata": {},
     "output_type": "execute_result"
    }
   ],
   "source": [
    "final = []\n",
    "with open('D:\\Mobina\\Desktop\\E_coli.txt', 'r') as file:\n",
    "    text = file.read()\n",
    "\n",
    "count(text,9,500,3)"
   ]
  },
  {
   "cell_type": "code",
   "execution_count": null,
   "id": "1d3d63a5",
   "metadata": {},
   "outputs": [],
   "source": []
  }
 ],
 "metadata": {
  "kernelspec": {
   "display_name": "Python 3 (ipykernel)",
   "language": "python",
   "name": "python3"
  },
  "language_info": {
   "codemirror_mode": {
    "name": "ipython",
    "version": 3
   },
   "file_extension": ".py",
   "mimetype": "text/x-python",
   "name": "python",
   "nbconvert_exporter": "python",
   "pygments_lexer": "ipython3",
   "version": "3.9.7"
  }
 },
 "nbformat": 4,
 "nbformat_minor": 5
}
