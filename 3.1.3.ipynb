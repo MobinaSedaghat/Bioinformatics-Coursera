{
 "cells": [
  {
   "cell_type": "code",
   "execution_count": 3,
   "id": "e623e253",
   "metadata": {},
   "outputs": [
    {
     "name": "stdout",
     "output_type": "stream",
     "text": [
      "Motif Entropy: 9.916290005356972\n"
     ]
    }
   ],
   "source": [
    "import math\n",
    "\n",
    "def countMotifPercent(motifs):\n",
    "    count = {}\n",
    "    columns = []\n",
    "    for i in range(len(motifs[0])):\n",
    "        columns.append([motif[i] for motif in motifs])\n",
    "    for i in range(len(columns)):\n",
    "        count[i] = {'A': columns[i].count('A')/len(columns[i]), 'C': columns[i].count('C')/len(columns[i]), 'G': columns[i].count('G')/len(columns[i]), 'T': columns[i].count('T')/len(columns[i])}\n",
    "\n",
    "    return count\n",
    "\n",
    "def motifEntropy(motifs):\n",
    "    entropy = 0\n",
    "    percents = countMotifPercent(motifs)\n",
    "    for i in range(len(percents)):\n",
    "        for nucleotide in percents[i]:\n",
    "            if percents[i][nucleotide] != 0:\n",
    "                entropy += percents[i][nucleotide] * math.log2(percents[i][nucleotide])\n",
    "    return -entropy\n",
    "\n",
    "# Example motif matrix\n",
    "motif_matrix = [\n",
    "    \"TCGGGGGTTTTT\",\n",
    "    \"CCGGTGACTTAC\",\n",
    "    \"ACGGGGATTTTC\",\n",
    "    \"TTGGGGACTTTT\",\n",
    "    \"AAGGGGACTTCC\",\n",
    "    \"TTGGGGACTTCC\",\n",
    "    \"TCGGGGATTCAT\",\n",
    "    \"TCGGGGATTCCT\",\n",
    "    \"TAGGGGAACTAC\",\n",
    "    \"TCGGGTATAACC\"\n",
    "]\n",
    "\n",
    "# Calculate and print the entropy\n",
    "entropy_score = motifEntropy(motif_matrix)\n",
    "print(\"Motif Entropy:\", entropy_score)"
   ]
  },
  {
   "cell_type": "code",
   "execution_count": null,
   "id": "f61e7f22",
   "metadata": {},
   "outputs": [],
   "source": []
  }
 ],
 "metadata": {
  "kernelspec": {
   "display_name": "Python 3 (ipykernel)",
   "language": "python",
   "name": "python3"
  },
  "language_info": {
   "codemirror_mode": {
    "name": "ipython",
    "version": 3
   },
   "file_extension": ".py",
   "mimetype": "text/x-python",
   "name": "python",
   "nbconvert_exporter": "python",
   "pygments_lexer": "ipython3",
   "version": "3.9.7"
  }
 },
 "nbformat": 4,
 "nbformat_minor": 5
}
